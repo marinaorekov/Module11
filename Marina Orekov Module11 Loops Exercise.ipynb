{
 "cells": [
  {
   "cell_type": "markdown",
   "metadata": {},
   "source": [
    "### Exercise 1\n",
    "Create a multiplication table from 1 to 10"
   ]
  },
  {
   "cell_type": "code",
   "execution_count": 10,
   "metadata": {},
   "outputs": [
    {
     "name": "stdout",
     "output_type": "stream",
     "text": [
      "1\n",
      "1\t2\t3\t4\t5\t6\t7\t8\t9\t2\n",
      "2\t4\t6\t8\t10\t12\t14\t16\t18\t3\n",
      "3\t6\t9\t12\t15\t18\t21\t24\t27\t4\n",
      "4\t8\t12\t16\t20\t24\t28\t32\t36\t5\n",
      "5\t10\t15\t20\t25\t30\t35\t40\t45\t6\n",
      "6\t12\t18\t24\t30\t36\t42\t48\t54\t7\n",
      "7\t14\t21\t28\t35\t42\t49\t56\t63\t8\n",
      "8\t16\t24\t32\t40\t48\t56\t64\t72\t9\n",
      "9\t18\t27\t36\t45\t54\t63\t72\t81\t10\n",
      "10\t20\t30\t40\t50\t60\t70\t80\t90\t"
     ]
    }
   ],
   "source": [
    "for x in range(1,11):\n",
    "    print(x)\n",
    "    for y in range(1,10):\n",
    "        print(y * x, end = \"\\t\")"
   ]
  },
  {
   "cell_type": "markdown",
   "metadata": {},
   "source": [
    "### Exercise 2\n",
    "Write a program to find the Fibonacci numbers where each number is the sum of the two preceding ones, starting from 0 and 1. \n",
    "\n",
    "    e.g.\n",
    "    0, 1, 1, 2, 3, 5, 8, ...\n",
    "    \n",
    "Ask a user to enter a number. Next, generate user specified number of Fibonacci numbers into a list. Then print out the list. The output should look something like this:\n",
    "\n",
    "    How many Fibonacci numbers would you like to generate? 10    \n",
    "    10 Fibonacci numbers are [0, 1, 1, 2, 3, 5, 8, 13, 21, 34]."
   ]
  },
  {
   "cell_type": "code",
   "execution_count": 5,
   "metadata": {
    "scrolled": true
   },
   "outputs": [
    {
     "name": "stdout",
     "output_type": "stream",
     "text": [
      "How many Fibonacci numbers? 10\n",
      "0\n",
      "1\n",
      "1\n",
      "2\n",
      "3\n",
      "5\n",
      "8\n",
      "13\n",
      "21\n",
      "34\n"
     ]
    }
   ],
   "source": [
    "# Program to display the Fibonacci sequence up to n-th term\n",
    "\n",
    "nterms = int(input(\"How many Fibonacci numbers? \"))\n",
    "\n",
    "# first two terms\n",
    "first, second = 0, 1\n",
    "count = 0\n",
    "while count < nterms:\n",
    "       print(first)\n",
    "       next = first + second\n",
    "       # update values\n",
    "       first = second\n",
    "       second = next\n",
    "       count += 1\n",
    "\n",
    "\n",
    "\n",
    "\n",
    "    "
   ]
  },
  {
   "cell_type": "code",
   "execution_count": null,
   "metadata": {},
   "outputs": [],
   "source": []
  },
  {
   "cell_type": "code",
   "execution_count": null,
   "metadata": {},
   "outputs": [],
   "source": []
  },
  {
   "cell_type": "code",
   "execution_count": null,
   "metadata": {},
   "outputs": [],
   "source": []
  }
 ],
 "metadata": {
  "kernelspec": {
   "display_name": "Python 3 (ipykernel)",
   "language": "python",
   "name": "python3"
  },
  "language_info": {
   "codemirror_mode": {
    "name": "ipython",
    "version": 3
   },
   "file_extension": ".py",
   "mimetype": "text/x-python",
   "name": "python",
   "nbconvert_exporter": "python",
   "pygments_lexer": "ipython3",
   "version": "3.11.5"
  }
 },
 "nbformat": 4,
 "nbformat_minor": 4
}
